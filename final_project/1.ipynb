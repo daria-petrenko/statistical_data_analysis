{
 "cells": [
  {
   "cell_type": "markdown",
   "metadata": {},
   "source": [
    "### Условие задания\n",
    "\n",
    "975 родителей участвовало в программе обучения воспитанию. Было проведено три опроса, в ходе которых родители отвечали на вопрос: «За последние несколько недель обращались ли дети к вам с проблемой или вопросом, который их беспокоил?» Первый опрос был проведён до начала обучения, второй - сразу после, и третий - по прошествии 6-8 недель после окончания обучения. Известен также уровень образования родителя.\n",
    "\n",
    "Задача: стали ли родители больше общаться с детьми в результате обучения? Проанализировать с учётом уровня образования родителей"
   ]
  },
  {
   "cell_type": "code",
   "execution_count": 171,
   "metadata": {},
   "outputs": [],
   "source": [
    "%matplotlib inline\n",
    "import matplotlib.pyplot as plt\n",
    "import seaborn as sns\n",
    "\n",
    "import pandas as pd\n",
    "from pandas import DataFrame as df\n",
    "import numpy as np\n",
    "\n",
    "\n",
    "from scipy.stats import norm\n",
    "from scipy.stats import chi2_contingency"
   ]
  },
  {
   "cell_type": "code",
   "execution_count": 164,
   "metadata": {},
   "outputs": [],
   "source": [
    "data['Time1'] = (data['Time1'] == 'Yes').astype(int)\n",
    "data['Time2'] = (data['Time2'] == 'Yes').astype(int)\n",
    "data['Time3'] = (data['Time3'] == 'Yes').astype(int)"
   ]
  },
  {
   "cell_type": "code",
   "execution_count": 165,
   "metadata": {},
   "outputs": [
    {
     "data": {
      "text/html": [
       "<div>\n",
       "<style scoped>\n",
       "    .dataframe tbody tr th:only-of-type {\n",
       "        vertical-align: middle;\n",
       "    }\n",
       "\n",
       "    .dataframe tbody tr th {\n",
       "        vertical-align: top;\n",
       "    }\n",
       "\n",
       "    .dataframe thead th {\n",
       "        text-align: right;\n",
       "    }\n",
       "</style>\n",
       "<table border=\"1\" class=\"dataframe\">\n",
       "  <thead>\n",
       "    <tr style=\"text-align: right;\">\n",
       "      <th></th>\n",
       "      <th>Time1</th>\n",
       "      <th>Time2</th>\n",
       "      <th>Time3</th>\n",
       "      <th>11+</th>\n",
       "      <th>&lt;11</th>\n",
       "    </tr>\n",
       "  </thead>\n",
       "  <tbody>\n",
       "    <tr>\n",
       "      <th>0</th>\n",
       "      <td>1</td>\n",
       "      <td>1</td>\n",
       "      <td>1</td>\n",
       "      <td>135</td>\n",
       "      <td>95</td>\n",
       "    </tr>\n",
       "    <tr>\n",
       "      <th>1</th>\n",
       "      <td>1</td>\n",
       "      <td>1</td>\n",
       "      <td>0</td>\n",
       "      <td>26</td>\n",
       "      <td>32</td>\n",
       "    </tr>\n",
       "    <tr>\n",
       "      <th>2</th>\n",
       "      <td>1</td>\n",
       "      <td>0</td>\n",
       "      <td>1</td>\n",
       "      <td>30</td>\n",
       "      <td>33</td>\n",
       "    </tr>\n",
       "    <tr>\n",
       "      <th>3</th>\n",
       "      <td>1</td>\n",
       "      <td>0</td>\n",
       "      <td>0</td>\n",
       "      <td>32</td>\n",
       "      <td>30</td>\n",
       "    </tr>\n",
       "    <tr>\n",
       "      <th>4</th>\n",
       "      <td>0</td>\n",
       "      <td>1</td>\n",
       "      <td>1</td>\n",
       "      <td>79</td>\n",
       "      <td>74</td>\n",
       "    </tr>\n",
       "    <tr>\n",
       "      <th>5</th>\n",
       "      <td>0</td>\n",
       "      <td>1</td>\n",
       "      <td>0</td>\n",
       "      <td>29</td>\n",
       "      <td>35</td>\n",
       "    </tr>\n",
       "    <tr>\n",
       "      <th>6</th>\n",
       "      <td>0</td>\n",
       "      <td>0</td>\n",
       "      <td>1</td>\n",
       "      <td>65</td>\n",
       "      <td>57</td>\n",
       "    </tr>\n",
       "    <tr>\n",
       "      <th>7</th>\n",
       "      <td>0</td>\n",
       "      <td>0</td>\n",
       "      <td>0</td>\n",
       "      <td>94</td>\n",
       "      <td>129</td>\n",
       "    </tr>\n",
       "  </tbody>\n",
       "</table>\n",
       "</div>"
      ],
      "text/plain": [
       "   Time1  Time2  Time3  11+  <11\n",
       "0      1      1      1  135   95\n",
       "1      1      1      0   26   32\n",
       "2      1      0      1   30   33\n",
       "3      1      0      0   32   30\n",
       "4      0      1      1   79   74\n",
       "5      0      1      0   29   35\n",
       "6      0      0      1   65   57\n",
       "7      0      0      0   94  129"
      ]
     },
     "execution_count": 165,
     "metadata": {},
     "output_type": "execute_result"
    }
   ],
   "source": [
    "data"
   ]
  },
  {
   "cell_type": "markdown",
   "metadata": {},
   "source": [
    "Проверим гипотезу о том, что результаты опросов не зависят от уровня образования родителей. Рассмотрим таблицу сопряженности для двух переменных: первая ($x_1$) представляет собой совокупность результатов трех опросов и определена на множестве булевых векторов размерности 3, вторая ($x_2$) - булева переменная, равная True, если у родителей есть высшее образование, и False иначе. Тогда мы хотим проверить, верно ли, что $P(x_1 | x_2 = 0) = P(x_1 | x_2 = 1) = P(x_1)$ или $P(x_1, x_2) = P(x_1 | x_2) P(x_2) = P(x_1) P(x_2)$, то есть что переменные $x_1$ и $x_2$ независимы.\n",
    "\n",
    "У нас есть выборки $X_1 = (x_{1 1}, \\dots, x_{1 n})$ и $X_2 = (x_{2 1}, \\dots, x_{2 n})$, состоящие из значений переменных $x_1$ и $x_2$ для $n$ объектов - людей, посещавших курсы. Так как значения переменных приведены для одних и тех же объектов, то выборки связанные. Так как суммарный объем выборок фиксирован (и равен числу людей, записавшихся на курс), то данные описываются мультиномиальной моделью. Рассмотрим, какие критерии можно использовать для проверки гипотез о таких данных.\n",
    "\n",
    "Будем проверять нулевую гипотезу о независимости переменных $x_1$ и $x_2$ против общей альтернативы: гипотеза $H_0$ неверна. Так как таблица сопряженности имеет большой размер, и значения в ячейках достаточно большие, то точный тест Фишера потребует слишком больших вычислительных затрат. Более того, значения достаточно большие, чтобы обеспечить адекватную работу приближенных методов поиска достигаемого уровня значимости. \n",
    "\n",
    "Известно, что G-критерий является тестом отношения правдоподобия для мультиномиального распределения. Действительно, пусть $\\theta \\in \\Theta$ и пусть нулевая гипотеза $\\theta \\in \\Theta_0$ проверяется против общей альтернативы $\\theta \\in \\Theta \\setminus \\Theta_0$. Статистика теста отношения правдоподобия в общем виде:\n",
    "\n",
    "$$ \\lambda_{L R} = -2 ln \\Big( \\frac{sup_{\\theta \\in \\Theta_0} L(\\theta)}{sup_{\\theta \\in \\Theta} L(\\theta)} \\Big)$$\n",
    "\n",
    "При условии, что нулевая гипотеза верна, распредение статистики стремится к распределению хи-квадрат.\n",
    "\n",
    "В случае мультиномиального распределения с $K_1 \\cdot K_2$ классами $L(p) = const  \\prod_{i = 1}^{K_1} \\prod_{j = 1}^{K_2} p_{i j}^{n_{i j}}$, где $p = (p_{1 1}, \\dots, p_{K_1 K_2})$ - вектор параметров распределения, а $n_{1 1}, \\dots, n_{K_1 K_2}$ - количество элементов из соответствующих классов в выборке. В случае, если нулевая гипотеза верна, максимум правдоподобия достигается при $p_{i j} = \\frac{n_{i +} n_{+ j}}{n}$. В случае, когда ограничений на параметры нет, максимум достигается при $p_{i j} = n_{i j}$. Тогда статистика принимает вид\n",
    "\n",
    "$$ \\lambda_{L R} = -2 ln \\Big( \\frac{ const \\prod_{i = 1}^{K_1} \\prod_{j = 1}^{K_2} (\\frac{n_{i+} n_{+j}}{n})^{n_{i j}}}{const \\prod_{i = 1}^{K_1} \\prod_{j = 1}^{K_2} n_{i j}^{n_{i j}}} \\Big) = -2 \\sum_{i = 1}^{K_1} \\sum_{j = 1}^{K_2} n_{i j} ln( \\frac{n_{i+} n_{+j}}{n_{i j} n} \\Big) = 2 \\sum_{i = 1}^{K_1} \\sum_{j = 1}^{K_2} n_{i j} ln( \\frac{n_{i j} n}{n_{i+} n_{+j}} \\Big)$$\n",
    "\n",
    "что совпадает с формулой для статистики G-критерия.\n",
    "\n",
    "Покажем, что статистика критерия хи-квадрат аппроксимирует статистику G-критерия с использованием разложения по Тейлору логарифма. Обозначим $n_{i j} = o_{i j}, \\; \\frac{n_{i+} n_{+j}}{n} = e_{i j}$. Пусть также $o_{i j} = e_{i j} + \\delta_{i j}$,  Тогда Статистика G-критерия имеет следующий вид:\n",
    "$$ G^2 = 2 \\sum_{i = 1}^{K_1} \\sum_{j = 1}^{K_2} (e_{i j} + \\delta_{i j}) log(\\frac{e_{i j} + \\delta_{i j}}{e_{i j}}) = 2 \\sum_{i = 1}^{K_1} \\sum_{j = 1}^{K_2} (e_{i j} + \\delta_{i j}) log(1 + \\frac{\\delta_{i j}}{e_{i j}}) $$\n",
    "\n",
    "По формуле Тейлора, $log(1 + x) = x - \\frac{x^2}{2} + o(x^3)$. Тогда\n",
    "\n",
    "$$G^2 = 2 \\sum_{i = 1}^{K_1} \\sum_{j = 1}^{K_2} (e_{i j} + \\delta_{i j}) \\Big( \\frac{\\delta_{i j}}{e_{i j}} - \\frac{1}{2} \\frac{\\delta^2_{i j}}{e^2_{i j}}  + o(\\delta^3_{i j}) \\Big) = 2 \\sum_{i = 1}^{K_1} \\sum_{j = 1}^{K_2} \\delta_{i j} + 2 \\sum_{i = 1}^{K_1} \\sum_{j = 1}^{K_2} \\Big(\\frac{1}{2} \\frac{\\delta^2_{i j}}{e_{i j}} + o(\\delta^3_{i j}) \\Big)  $$\n",
    "\n",
    "Заметим, что $\\sum_{i = 1}^{K_1} \\sum_{j = 1}^{K_2} o_{i j} = \\sum_{i = 1}^{K_1} \\sum_{j = 1}^{K_2} e_{i j} = n$, тогда $\\sum_{i = 1}^{K_1} \\sum_{j = 1}^{K_2} \\delta_{i j} = 0$. Получаем, что\n",
    "\n",
    "$$G^2 = \\sum_{i = 1}^{K_1} \\sum_{j = 1}^{K_2} \\Big(\\frac{\\delta^2_{i j}}{e_{i j}} + o(\\delta^3_{i j}) \\Big) $$\n",
    "\n",
    "Вернувшись к первоначальным обозначениям, получаем \n",
    "\n",
    "$$ G^2 \\simeq \\sum_{i = 1}^{K_1} \\sum_{j = 1}^{K_2}  \\frac{(n_{i j} - \\frac{n_{i+} n_{+j}}{n})^2}{\\frac{n_{i+} n_{+j}}{n}} = n \\Big(  \\sum_{i = 1}^{K_1} \\sum_{j = 1}^{K_2} \\frac{n_{i j} n}{n_{i+} n_{+j}} - 1 \\Big)$$\n",
    "\n",
    "Это в точности совпадает со статистикой критерия хи-квадрат. Таким образом, можно утверждать, что при выполнении ряда условий, обеспечивающих хорошее приближение разложением до второго порядка, результаты применения G-критерия и критерия чи=квадрат имеют незначительные различия. В остальных случаях распределение статистики G-критерия лучше аппроксимирует нулевое распределение, и лучше использовать его.\n",
    "\n",
    "Формально проверим условия применимости критерия хи-квадрат для наших данных."
   ]
  },
  {
   "cell_type": "code",
   "execution_count": 298,
   "metadata": {},
   "outputs": [
    {
     "data": {
      "text/plain": [
       "14.503087449165847"
      ]
     },
     "execution_count": 298,
     "metadata": {},
     "output_type": "execute_result"
    }
   ],
   "source": [
    "n = np.sum(d)\n",
    "n * (np.sum(d ** 2 / (np.sum(d, axis=0)[np.newaxis, :] * np.sum(d, axis=1)[:, np.newaxis])) - 1)"
   ]
  },
  {
   "cell_type": "code",
   "execution_count": 266,
   "metadata": {},
   "outputs": [],
   "source": [
    "def check_chi_squared_cond(table):\n",
    "    n = np.sum(table)\n",
    "    counter = np.sum(np.sum(table, axis=0)[np.newaxis, :] * np.sum(table, axis=1)[:, np.newaxis] / n < 5)\n",
    "    return n > 40 and counter < 0.2 * (table.shape[0] * table.shape[1])"
   ]
  },
  {
   "cell_type": "code",
   "execution_count": 267,
   "metadata": {},
   "outputs": [
    {
     "data": {
      "text/plain": [
       "True"
      ]
     },
     "execution_count": 267,
     "metadata": {},
     "output_type": "execute_result"
    }
   ],
   "source": [
    "check_chi_squared_cond(data.loc[:, ['11+','<11']].values)"
   ]
  },
  {
   "cell_type": "markdown",
   "metadata": {},
   "source": [
    "Условия выполняются, поэтому различия между результатами использования критериев должны быть незначительными. Вычислим значение достигаемого уровня значимости."
   ]
  },
  {
   "cell_type": "code",
   "execution_count": 268,
   "metadata": {},
   "outputs": [
    {
     "name": "stdout",
     "output_type": "stream",
     "text": [
      "G test: p-value = 0.04202158856730284\n",
      "chi-square test: p-value = 0.04292364379445899\n"
     ]
    }
   ],
   "source": [
    "print('G test: p-value =', chi2_contingency(data.loc[:, ['11+','<11']].values, lambda_=\"log-likelihood\")[1])\n",
    "print('chi-square test: p-value =', chi2_contingency(data.loc[:, ['11+','<11']].values)[1])"
   ]
  },
  {
   "cell_type": "markdown",
   "metadata": {},
   "source": [
    "Оба критерия позволяют отвергнуть нулевую гипотезу на уровне значимости 0.05. То есть существует зависимость результатов опросов от уровня образования родителей. \n",
    "\n",
    "Но, на самом деле, нас интересуют не сами результаты, а то, как они изменились после прохождения курса. Введем новые категориальные переменные, принимающие значения из {-1, 0, 1}, описывающие изменения между результатами пары опросов. Значение 1 соответствует изменению в лучшую сторону, -1 - в худшую, 0 - отсутствию изменений."
   ]
  },
  {
   "cell_type": "code",
   "execution_count": 270,
   "metadata": {},
   "outputs": [],
   "source": [
    "data['diff_12'] = data['Time2'] - data['Time1']\n",
    "data['diff_23'] = data['Time3'] - data['Time2']\n",
    "data['diff_13'] = data['Time3'] - data['Time1']"
   ]
  },
  {
   "cell_type": "code",
   "execution_count": 279,
   "metadata": {},
   "outputs": [
    {
     "data": {
      "text/html": [
       "<div>\n",
       "<style scoped>\n",
       "    .dataframe tbody tr th:only-of-type {\n",
       "        vertical-align: middle;\n",
       "    }\n",
       "\n",
       "    .dataframe tbody tr th {\n",
       "        vertical-align: top;\n",
       "    }\n",
       "\n",
       "    .dataframe thead th {\n",
       "        text-align: right;\n",
       "    }\n",
       "</style>\n",
       "<table border=\"1\" class=\"dataframe\">\n",
       "  <thead>\n",
       "    <tr style=\"text-align: right;\">\n",
       "      <th></th>\n",
       "      <th>diff_12</th>\n",
       "      <th>diff_23</th>\n",
       "      <th>diff_13</th>\n",
       "      <th>11+</th>\n",
       "      <th>&lt;11</th>\n",
       "    </tr>\n",
       "  </thead>\n",
       "  <tbody>\n",
       "    <tr>\n",
       "      <th>0</th>\n",
       "      <td>-1</td>\n",
       "      <td>0</td>\n",
       "      <td>-1</td>\n",
       "      <td>32</td>\n",
       "      <td>30</td>\n",
       "    </tr>\n",
       "    <tr>\n",
       "      <th>1</th>\n",
       "      <td>-1</td>\n",
       "      <td>1</td>\n",
       "      <td>0</td>\n",
       "      <td>30</td>\n",
       "      <td>33</td>\n",
       "    </tr>\n",
       "    <tr>\n",
       "      <th>2</th>\n",
       "      <td>0</td>\n",
       "      <td>-1</td>\n",
       "      <td>-1</td>\n",
       "      <td>26</td>\n",
       "      <td>32</td>\n",
       "    </tr>\n",
       "    <tr>\n",
       "      <th>3</th>\n",
       "      <td>0</td>\n",
       "      <td>0</td>\n",
       "      <td>0</td>\n",
       "      <td>229</td>\n",
       "      <td>224</td>\n",
       "    </tr>\n",
       "    <tr>\n",
       "      <th>4</th>\n",
       "      <td>0</td>\n",
       "      <td>1</td>\n",
       "      <td>1</td>\n",
       "      <td>65</td>\n",
       "      <td>57</td>\n",
       "    </tr>\n",
       "    <tr>\n",
       "      <th>5</th>\n",
       "      <td>1</td>\n",
       "      <td>-1</td>\n",
       "      <td>0</td>\n",
       "      <td>29</td>\n",
       "      <td>35</td>\n",
       "    </tr>\n",
       "    <tr>\n",
       "      <th>6</th>\n",
       "      <td>1</td>\n",
       "      <td>0</td>\n",
       "      <td>1</td>\n",
       "      <td>79</td>\n",
       "      <td>74</td>\n",
       "    </tr>\n",
       "  </tbody>\n",
       "</table>\n",
       "</div>"
      ],
      "text/plain": [
       "   diff_12  diff_23  diff_13  11+  <11\n",
       "0       -1        0       -1   32   30\n",
       "1       -1        1        0   30   33\n",
       "2        0       -1       -1   26   32\n",
       "3        0        0        0  229  224\n",
       "4        0        1        1   65   57\n",
       "5        1       -1        0   29   35\n",
       "6        1        0        1   79   74"
      ]
     },
     "execution_count": 279,
     "metadata": {},
     "output_type": "execute_result"
    }
   ],
   "source": [
    "data_diff = data.groupby(by=['diff_12', 'diff_23', 'diff_13']).agg({'11+':'sum','<11':'sum'}).reset_index()\n",
    "data_diff"
   ]
  },
  {
   "cell_type": "markdown",
   "metadata": {},
   "source": [
    "Рассмотрим переменную $x'_1$, представляющую собой попарные изменения в результатах опросов и определенную на $\\{-1, 0, 1\\}^3$, и переменную $x_2$ - булеву переменную, равную True, если у родителей есть высшее образование, и False иначе. Проверим нулевую гипотезу о том, что переменные $x'_1$ и $x_2$ независимы, против общей альтернативы.\n",
    "\n",
    "Аналогично проверим условия применимости критерия хи-квадрат"
   ]
  },
  {
   "cell_type": "code",
   "execution_count": 282,
   "metadata": {},
   "outputs": [
    {
     "data": {
      "text/plain": [
       "True"
      ]
     },
     "execution_count": 282,
     "metadata": {},
     "output_type": "execute_result"
    }
   ],
   "source": [
    "check_chi_squared_cond(data_diff.loc[:, ['11+','<11']].values)"
   ]
  },
  {
   "cell_type": "markdown",
   "metadata": {},
   "source": [
    "Критерий применим. Вычислим значение достигаемого уровня значимости."
   ]
  },
  {
   "cell_type": "code",
   "execution_count": 284,
   "metadata": {},
   "outputs": [
    {
     "name": "stdout",
     "output_type": "stream",
     "text": [
      "G test: p-value = 0.9092595516172199\n",
      "chi-square test: p-value = 0.9094876709806509\n"
     ]
    }
   ],
   "source": [
    "print('G test: p-value =', chi2_contingency(data_diff.loc[:, ['11+','<11']].values, lambda_=\"log-likelihood\")[1])\n",
    "print('chi-square test: p-value =', chi2_contingency(data_diff.loc[:, ['11+','<11']].values)[1])"
   ]
  },
  {
   "cell_type": "markdown",
   "metadata": {},
   "source": [
    "На уровне значимости 0.05 нулевая гипотеза не отвергается. Мы не можем утверждать, что есть статистически значимая зависимость между изменениями в результатах опросов и уровнем образования родителей.\n",
    "\n",
    "Для ответа на вопрос, стали ли родители больше общаться с детьми после прохождения курса, будем сравнивать вероятность положительного ответа на вопрос «За последние несколько недель обращались ли дети к вам с проблемоиB или вопросом, который их беспокоил?» до и после прохождения курса. Для этого будем использовать z-критерий для разности долей для связанных выборок. Критерий учитывает только суммарное число объектов и число объектов, для которых признак изменился. В нашем случае важны не сами результаты опросов, а то, как они изменились. \n",
    "\n",
    "А, как показали эксперименты, для изменений в результатах опросов статистически значимая зависимость от уровня образования родителей не выявлена. Тогда группы можно объединить."
   ]
  },
  {
   "cell_type": "code",
   "execution_count": 287,
   "metadata": {},
   "outputs": [
    {
     "data": {
      "text/html": [
       "<div>\n",
       "<style scoped>\n",
       "    .dataframe tbody tr th:only-of-type {\n",
       "        vertical-align: middle;\n",
       "    }\n",
       "\n",
       "    .dataframe tbody tr th {\n",
       "        vertical-align: top;\n",
       "    }\n",
       "\n",
       "    .dataframe thead th {\n",
       "        text-align: right;\n",
       "    }\n",
       "</style>\n",
       "<table border=\"1\" class=\"dataframe\">\n",
       "  <thead>\n",
       "    <tr style=\"text-align: right;\">\n",
       "      <th></th>\n",
       "      <th>Time1</th>\n",
       "      <th>Time2</th>\n",
       "      <th>Time3</th>\n",
       "      <th>count</th>\n",
       "    </tr>\n",
       "  </thead>\n",
       "  <tbody>\n",
       "    <tr>\n",
       "      <th>0</th>\n",
       "      <td>1</td>\n",
       "      <td>1</td>\n",
       "      <td>1</td>\n",
       "      <td>230</td>\n",
       "    </tr>\n",
       "    <tr>\n",
       "      <th>1</th>\n",
       "      <td>1</td>\n",
       "      <td>1</td>\n",
       "      <td>0</td>\n",
       "      <td>58</td>\n",
       "    </tr>\n",
       "    <tr>\n",
       "      <th>2</th>\n",
       "      <td>1</td>\n",
       "      <td>0</td>\n",
       "      <td>1</td>\n",
       "      <td>63</td>\n",
       "    </tr>\n",
       "    <tr>\n",
       "      <th>3</th>\n",
       "      <td>1</td>\n",
       "      <td>0</td>\n",
       "      <td>0</td>\n",
       "      <td>62</td>\n",
       "    </tr>\n",
       "    <tr>\n",
       "      <th>4</th>\n",
       "      <td>0</td>\n",
       "      <td>1</td>\n",
       "      <td>1</td>\n",
       "      <td>153</td>\n",
       "    </tr>\n",
       "    <tr>\n",
       "      <th>5</th>\n",
       "      <td>0</td>\n",
       "      <td>1</td>\n",
       "      <td>0</td>\n",
       "      <td>64</td>\n",
       "    </tr>\n",
       "    <tr>\n",
       "      <th>6</th>\n",
       "      <td>0</td>\n",
       "      <td>0</td>\n",
       "      <td>1</td>\n",
       "      <td>122</td>\n",
       "    </tr>\n",
       "    <tr>\n",
       "      <th>7</th>\n",
       "      <td>0</td>\n",
       "      <td>0</td>\n",
       "      <td>0</td>\n",
       "      <td>223</td>\n",
       "    </tr>\n",
       "  </tbody>\n",
       "</table>\n",
       "</div>"
      ],
      "text/plain": [
       "   Time1  Time2  Time3  count\n",
       "0      1      1      1    230\n",
       "1      1      1      0     58\n",
       "2      1      0      1     63\n",
       "3      1      0      0     62\n",
       "4      0      1      1    153\n",
       "5      0      1      0     64\n",
       "6      0      0      1    122\n",
       "7      0      0      0    223"
      ]
     },
     "execution_count": 287,
     "metadata": {},
     "output_type": "execute_result"
    }
   ],
   "source": [
    "data_summed = data.loc[:, ['Time1','Time2', 'Time3']]\n",
    "data_summed['count'] = data['11+'] + data['<11']\n",
    "data_summed"
   ]
  },
  {
   "cell_type": "code",
   "execution_count": 288,
   "metadata": {},
   "outputs": [],
   "source": [
    "def z_test(table, alternative='two-sided'):\n",
    "    \"\"\"\n",
    "    z-критерий для разности долей для связанных выборок\n",
    "    H0: p_1 == p_2\n",
    "    H1: p_1 < != > p_2\n",
    "    \n",
    "    table: array 2x2 of counts\n",
    "    \n",
    "    \"\"\"\n",
    "    g = table[0, 1]\n",
    "    f = table[1, 0]\n",
    "    n = np.sum(table)\n",
    "    Z = (f - g) / np.sqrt(f + g - (f - g) ** 2 / n)\n",
    "    \n",
    "    if alternative == 'left':\n",
    "        return norm.cdf(Z)\n",
    "    elif alternative == 'right':\n",
    "        return 1 - norm.cdf(Z)\n",
    "    elif alternative == 'two-sided':\n",
    "        return 2 * (1 - norm.cdf(np.abs(Z)))\n",
    "    "
   ]
  },
  {
   "cell_type": "markdown",
   "metadata": {},
   "source": [
    "Для каждой пары опросов проверим нулевую гипотезу о том, что вероятности положительных ответов равны, против односторонней альтернативы: вероятность положительного ответа во втором опросе увеличилась. "
   ]
  },
  {
   "cell_type": "code",
   "execution_count": 296,
   "metadata": {},
   "outputs": [
    {
     "name": "stdout",
     "output_type": "stream",
     "text": [
      "p-value = 2.3379454348556563e-07\n"
     ]
    },
    {
     "data": {
      "text/html": [
       "<div>\n",
       "<style scoped>\n",
       "    .dataframe tbody tr th:only-of-type {\n",
       "        vertical-align: middle;\n",
       "    }\n",
       "\n",
       "    .dataframe tbody tr th {\n",
       "        vertical-align: top;\n",
       "    }\n",
       "\n",
       "    .dataframe thead th {\n",
       "        text-align: right;\n",
       "    }\n",
       "</style>\n",
       "<table border=\"1\" class=\"dataframe\">\n",
       "  <thead>\n",
       "    <tr style=\"text-align: right;\">\n",
       "      <th>Time2</th>\n",
       "      <th>0</th>\n",
       "      <th>1</th>\n",
       "    </tr>\n",
       "    <tr>\n",
       "      <th>Time1</th>\n",
       "      <th></th>\n",
       "      <th></th>\n",
       "    </tr>\n",
       "  </thead>\n",
       "  <tbody>\n",
       "    <tr>\n",
       "      <th>0</th>\n",
       "      <td>345</td>\n",
       "      <td>217</td>\n",
       "    </tr>\n",
       "    <tr>\n",
       "      <th>1</th>\n",
       "      <td>125</td>\n",
       "      <td>288</td>\n",
       "    </tr>\n",
       "  </tbody>\n",
       "</table>\n",
       "</div>"
      ],
      "text/plain": [
       "Time2    0    1\n",
       "Time1          \n",
       "0      345  217\n",
       "1      125  288"
      ]
     },
     "execution_count": 296,
     "metadata": {},
     "output_type": "execute_result"
    }
   ],
   "source": [
    "table_12 = df.pivot(data_summed.groupby(by=['Time1', 'Time2'])[['count']].sum().reset_index(), \n",
    "         index='Time1', columns='Time2', values='count')\n",
    "print('p-value =', z_test(table_12.values, alternative='left'))\n",
    "table_12"
   ]
  },
  {
   "cell_type": "code",
   "execution_count": 293,
   "metadata": {},
   "outputs": [
    {
     "name": "stdout",
     "output_type": "stream",
     "text": [
      "p-value = 0.0001474848267757306\n"
     ]
    },
    {
     "data": {
      "text/html": [
       "<div>\n",
       "<style scoped>\n",
       "    .dataframe tbody tr th:only-of-type {\n",
       "        vertical-align: middle;\n",
       "    }\n",
       "\n",
       "    .dataframe tbody tr th {\n",
       "        vertical-align: top;\n",
       "    }\n",
       "\n",
       "    .dataframe thead th {\n",
       "        text-align: right;\n",
       "    }\n",
       "</style>\n",
       "<table border=\"1\" class=\"dataframe\">\n",
       "  <thead>\n",
       "    <tr style=\"text-align: right;\">\n",
       "      <th>Time3</th>\n",
       "      <th>0</th>\n",
       "      <th>1</th>\n",
       "    </tr>\n",
       "    <tr>\n",
       "      <th>Time2</th>\n",
       "      <th></th>\n",
       "      <th></th>\n",
       "    </tr>\n",
       "  </thead>\n",
       "  <tbody>\n",
       "    <tr>\n",
       "      <th>0</th>\n",
       "      <td>285</td>\n",
       "      <td>185</td>\n",
       "    </tr>\n",
       "    <tr>\n",
       "      <th>1</th>\n",
       "      <td>122</td>\n",
       "      <td>383</td>\n",
       "    </tr>\n",
       "  </tbody>\n",
       "</table>\n",
       "</div>"
      ],
      "text/plain": [
       "Time3    0    1\n",
       "Time2          \n",
       "0      285  185\n",
       "1      122  383"
      ]
     },
     "execution_count": 293,
     "metadata": {},
     "output_type": "execute_result"
    }
   ],
   "source": [
    "table_23 = df.pivot(data_summed.groupby(by=['Time2', 'Time3'])[['count']].sum().reset_index(), \n",
    "         index='Time2', columns='Time3', values='count')\n",
    "print('p-value =', z_test(table_23.values, alternative='left'))\n",
    "table_23"
   ]
  },
  {
   "cell_type": "code",
   "execution_count": 294,
   "metadata": {},
   "outputs": [
    {
     "name": "stdout",
     "output_type": "stream",
     "text": [
      "p-value = 4.001318539159966e-16\n"
     ]
    },
    {
     "data": {
      "text/html": [
       "<div>\n",
       "<style scoped>\n",
       "    .dataframe tbody tr th:only-of-type {\n",
       "        vertical-align: middle;\n",
       "    }\n",
       "\n",
       "    .dataframe tbody tr th {\n",
       "        vertical-align: top;\n",
       "    }\n",
       "\n",
       "    .dataframe thead th {\n",
       "        text-align: right;\n",
       "    }\n",
       "</style>\n",
       "<table border=\"1\" class=\"dataframe\">\n",
       "  <thead>\n",
       "    <tr style=\"text-align: right;\">\n",
       "      <th>Time3</th>\n",
       "      <th>0</th>\n",
       "      <th>1</th>\n",
       "    </tr>\n",
       "    <tr>\n",
       "      <th>Time1</th>\n",
       "      <th></th>\n",
       "      <th></th>\n",
       "    </tr>\n",
       "  </thead>\n",
       "  <tbody>\n",
       "    <tr>\n",
       "      <th>0</th>\n",
       "      <td>287</td>\n",
       "      <td>275</td>\n",
       "    </tr>\n",
       "    <tr>\n",
       "      <th>1</th>\n",
       "      <td>120</td>\n",
       "      <td>293</td>\n",
       "    </tr>\n",
       "  </tbody>\n",
       "</table>\n",
       "</div>"
      ],
      "text/plain": [
       "Time3    0    1\n",
       "Time1          \n",
       "0      287  275\n",
       "1      120  293"
      ]
     },
     "execution_count": 294,
     "metadata": {},
     "output_type": "execute_result"
    }
   ],
   "source": [
    "table_13 = df.pivot(data_summed.groupby(by=['Time1', 'Time3'])[['count']].sum().reset_index(), \n",
    "         index='Time1', columns='Time3', values='count')\n",
    "print('p-value =', z_test(table_13.values, alternative='left'))\n",
    "table_13"
   ]
  },
  {
   "cell_type": "markdown",
   "metadata": {},
   "source": [
    "На уровне значимости 0.05 все гипотезы уверенно отвеграются. Поэтому на основе имеющихся данных можно утверждать, что в результате обучения родители, действительно, стали больше общаться с детьми."
   ]
  },
  {
   "cell_type": "code",
   "execution_count": null,
   "metadata": {},
   "outputs": [],
   "source": []
  }
 ],
 "metadata": {
  "kernelspec": {
   "display_name": "Python 3",
   "language": "python",
   "name": "python3"
  },
  "language_info": {
   "codemirror_mode": {
    "name": "ipython",
    "version": 3
   },
   "file_extension": ".py",
   "mimetype": "text/x-python",
   "name": "python",
   "nbconvert_exporter": "python",
   "pygments_lexer": "ipython3",
   "version": "3.7.5"
  }
 },
 "nbformat": 4,
 "nbformat_minor": 2
}
